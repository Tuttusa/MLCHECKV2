{
 "cells": [
  {
   "cell_type": "code",
   "execution_count": 1,
   "metadata": {},
   "outputs": [],
   "source": [
    "import torch\n",
    "import torchvision\n",
    "import numpy as np\n",
    "from torchvision import transforms, datasets\n",
    "import torch.nn as nn\n",
    "import torch.nn.functional as F\n",
    "import torch.optim as optim\n",
    "import pandas as pd\n",
    "import csv as cv\n",
    "import sys\n",
    "sys.path.append(\"../\")"
   ]
  },
  {
   "cell_type": "code",
   "execution_count": 55,
   "metadata": {},
   "outputs": [],
   "source": [
    "class LinearNet(nn.Module):\n",
    "    def __init__(self, input_size):\n",
    "        super(LinearNet, self).__init__()\n",
    "        with open('param_dict.csv') as csv_file:\n",
    "            reader = cv.reader(csv_file)\n",
    "            self.mydict = dict(reader)   \n",
    "        self.num_layers = int(self.mydict['no_of_layers'])\n",
    "        self.layers_size = int(self.mydict['layer_size'])\n",
    "        self.output_size = int(self.mydict['no_of_class'])\n",
    "        self.linears = nn.ModuleList([nn.Linear(input_size, self.layers_size)])\n",
    "        self.linears.extend([nn.Linear(self.layers_size, self.layers_size) for i in range(1, self.num_layers-1)])\n",
    "        self.linears.append(nn.Linear(self.layers_size, self.output_size))\n",
    "    \n",
    "    def forward(self, x):\n",
    "        for i in range(0, self.num_layers-1):\n",
    "            x = F.relu(self.linears[i](x))\n",
    "        x = self.linears[self.num_layers-1](x)    \n",
    "        return F.log_softmax(x, dim=1)  "
   ]
  },
  {
   "cell_type": "code",
   "execution_count": null,
   "metadata": {},
   "outputs": [],
   "source": [
    "class weightConstraint(object):\n",
    "    def __init__(self):\n",
    "        pass\n",
    "    \n",
    "    def __call__(self,module):\n",
    "        if hasattr(module,'weight'):\n",
    "            w=module.weight.data\n",
    "            w=torch.clamp(w, min=-10, max=10)\n",
    "            module.weight.data=w"
   ]
  },
  {
   "cell_type": "code",
   "execution_count": 58,
   "metadata": {},
   "outputs": [],
   "source": [
    "def functrainDNN():\n",
    "    df = pd.read_csv('OracleData.csv')\n",
    "    data = df.values\n",
    "    with open('param_dict.csv') as csv_file:\n",
    "        reader = cv.reader(csv_file)\n",
    "        mydict = dict(reader) \n",
    "    \n",
    "    no_of_class = int(mydict['no_of_class'])\n",
    "    X = data[:,:-no_of_class]\n",
    "    y = data[:, -no_of_class:]  \n",
    "    EPOCH = int(mydict['no_EPOCHS'])\n",
    "    X_train = torch.from_numpy(X).float()\n",
    "    y_train = torch.tensor(y)\n",
    "    \n",
    "    net = LinearNet(input_size=df.shape[1]-no_of_class)\n",
    "    constraints=weightConstraint()\n",
    "    net(X_train)\n",
    "    criterion = nn.BCEWithLogitsLoss()\n",
    "    optimizer = optim.SGD(net.parameters(), lr=1e-1)\n",
    "\n",
    "    for epoch in range(0, EPOCH):\n",
    "        optimizer.zero_grad()\n",
    "        output = net(X_train)\n",
    "        loss = criterion(output, y_train)\n",
    "        loss.backward()\n",
    "        optimizer.step()\n",
    "        for i in range(0, len(net.linears)):\n",
    "            net.linears[i].apply(constraints)\n",
    "    \n",
    "    MODEL_PATH = 'Model/dnn_model_multi'\n",
    "    torch.save(net, MODEL_PATH)   \n",
    "    "
   ]
  },
  {
   "cell_type": "code",
   "execution_count": null,
   "metadata": {},
   "outputs": [],
   "source": []
  },
  {
   "cell_type": "code",
   "execution_count": null,
   "metadata": {},
   "outputs": [],
   "source": []
  },
  {
   "cell_type": "code",
   "execution_count": null,
   "metadata": {},
   "outputs": [],
   "source": []
  }
 ],
 "metadata": {
  "kernelspec": {
   "display_name": "Python 3",
   "language": "python",
   "name": "python3"
  },
  "language_info": {
   "codemirror_mode": {
    "name": "ipython",
    "version": 3
   },
   "file_extension": ".py",
   "mimetype": "text/x-python",
   "name": "python",
   "nbconvert_exporter": "python",
   "pygments_lexer": "ipython3",
   "version": "3.7.6"
  }
 },
 "nbformat": 4,
 "nbformat_minor": 4
}
